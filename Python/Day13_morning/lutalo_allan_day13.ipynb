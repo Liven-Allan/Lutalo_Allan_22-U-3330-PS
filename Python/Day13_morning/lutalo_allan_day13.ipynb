{
 "cells": [
  {
   "cell_type": "code",
   "execution_count": 13,
   "metadata": {},
   "outputs": [],
   "source": [
    "# import necessary libraries\n",
    "import pandas as pd\n",
    "import numpy as np\n",
    "from sklearn.model_selection import train_test_split, cross_val_score, StratifiedKFold, TimeSeriesSplit\n",
    "from sklearn.linear_model import LogisticRegression\n",
    "from sklearn.tree import DecisionTreeClassifier\n",
    "from sklearn.ensemble import RandomForestClassifier\n",
    "from sklearn.neighbors import KNeighborsClassifier\n",
    "from sklearn.svm import SVC\n",
    "from sklearn.metrics import accuracy_score, mean_squared_error, precision_score, recall_score, f1_score, roc_auc_score\n",
    "\n",
    "# Load the data set\n",
    "df = pd.read_csv(\"heart.csv\")\n",
    "\n",
    "# Define the target and features\n",
    "target = 'target'\n",
    "features = df.columns.tolist()\n",
    "features.remove(target)\n",
    "\n",
    "# Split the data into training and testing sets\n",
    "X = df[features]\n",
    "y = df[target]"
   ]
  },
  {
   "cell_type": "code",
   "execution_count": 3,
   "metadata": {},
   "outputs": [
    {
     "name": "stdout",
     "output_type": "stream",
     "text": [
      "Accuracy: 0.8688524590163934\n"
     ]
    }
   ],
   "source": [
    "# Data splitting\n",
    "X_train, X_test, y_train, y_test = train_test_split(X, y, test_size=0.2,random_state=42)\n",
    "\n",
    "# Create and train the model\n",
    "model = LogisticRegression(max_iter=1000)\n",
    "model.fit(X_train, y_train)\n",
    "\n",
    "# Predict and evaluate the model\n",
    "y_pred = model.predict(X_test)\n",
    "accuracy = accuracy_score(y_test, y_pred)\n",
    "print(f\"Accuracy: {accuracy}\")"
   ]
  },
  {
   "cell_type": "code",
   "execution_count": 5,
   "metadata": {},
   "outputs": [
    {
     "name": "stdout",
     "output_type": "stream",
     "text": [
      "Cross Validation Accuracy:  0.81828231292517\n"
     ]
    }
   ],
   "source": [
    "# Cross validation\n",
    "model = RandomForestClassifier()\n",
    "cv = StratifiedKFold(n_splits=5, shuffle=True, random_state=42)\n",
    "scores = cross_val_score(model, X_train, y_train, cv=cv, scoring=\"accuracy\")\n",
    "\n",
    "print(\"Cross Validation Accuracy: \", scores.mean())\n"
   ]
  },
  {
   "cell_type": "code",
   "execution_count": null,
   "metadata": {},
   "outputs": [],
   "source": [
    "# Training and Evaluating the model\n",
    "from sklearn.metrics import accuracy_score, precision_score, recall_score, f1_score\n",
    "model = RandomForestClassifier()\n",
    "model.fit(X_train, y_train)\n",
    "y_pred = model.predict(X_test)\n",
    "\n",
    "print(\"Test score accuracy: \", accuracy_score(y_test, y_pred))"
   ]
  },
  {
   "cell_type": "code",
   "execution_count": 8,
   "metadata": {},
   "outputs": [],
   "source": [
    "# Classification Accuracy of the algorithms\n",
    "\n",
    "# initialize models\n",
    "models = {\n",
    "    'Logistic Regression': LogisticRegression(max_iter=10000, random_state=42),\n",
    "    'Decision Tree': DecisionTreeClassifier(random_state=42),\n",
    "    'Random Forest': RandomForestClassifier(random_state=42),\n",
    "    'KNN': KNeighborsClassifier(),\n",
    "    'SVM': SVC(probability=True, random_state=42)\n",
    "}\n",
    "\n",
    "# Function to evaluate models\n",
    "def evaluate_models(X_train, X_test, y_train, y_test, models):\n",
    "    results = {}\n",
    "    for name, model in models.items():\n",
    "        model.fit(X_train, y_train)\n",
    "        y_pred = model.predict(X_test)\n",
    "        accuracy = accuracy_score(y_test, y_pred)\n",
    "        results[name] = accuracy\n",
    "    return results\n"
   ]
  },
  {
   "cell_type": "markdown",
   "metadata": {},
   "source": [
    "# TRAINING AND TESTING SPLIT\n",
    "_Purpose_\n",
    "The primary purpose of splitting the dataset into training and testing sets is to evaluate the model's performance on unseen data. This helps in understanding how well the model generalizes to new data.\n",
    "\n",
    "_How it works_\n",
    "1.Training Set: A portion of the dataset used to train the model. The model learns the underlying patterns and relationships from this data.\n",
    "\n",
    "2.Testing Set: A separate portion of the dataset used to evaluate the model's performance. This data is not seen by the model during training, providing an unbiased assessment of its generalization capability.\n",
    "\n",
    "_Typical split ratio_\n",
    "A common split ratio is 70% for training and 30% for testing. Other popular ratios include 80/20 and 75/25.\n",
    "The choice of ratio can depend on the size of the dataset. For very large datasets, even a small percentage can provide a substantial test set."
   ]
  },
  {
   "cell_type": "code",
   "execution_count": 9,
   "metadata": {},
   "outputs": [
    {
     "name": "stdout",
     "output_type": "stream",
     "text": [
      "Training and Testing Split Results: {'Logistic Regression': 0.8131868131868132, 'Decision Tree': 0.7362637362637363, 'Random Forest': 0.8241758241758241, 'KNN': 0.6593406593406593, 'SVM': 0.7032967032967034}\n"
     ]
    }
   ],
   "source": [
    "# 1. Training and Testing Split\n",
    "X_train, X_test, y_train, y_test = train_test_split(X, y, test_size=0.3, random_state=42)\n",
    "train_test_results = evaluate_models(X_train, X_test, y_train, y_test, models)\n",
    "print(\"Training and Testing Split Results:\", train_test_results)"
   ]
  },
  {
   "cell_type": "markdown",
   "metadata": {},
   "source": [
    "# CROSS VALIDATION\n",
    "_Purpose_:\n",
    "Cross-validation is used to assess the generalizability of a model. Instead of splitting the dataset into a single training set and a single test set, cross-validation divides the dataset into multiple folds, trains the model on some folds, and tests it on the remaining fold. This process is repeated several times, and the results are averaged to provide a more reliable estimate of model performance.\n",
    "\n",
    "_How it works_\n",
    "1.The dataset is divided into k subsets (folds).\n",
    "2.The model is trained on k-1 folds and tested on the remaining fold.\n",
    "3.This process is repeated k times, with each fold used exactly once as the test set.\n",
    "4.The performance metrics (e.g., accuracy, precision, recall) are averaged over all k runs to get a final evaluation score.\n"
   ]
  },
  {
   "cell_type": "code",
   "execution_count": 10,
   "metadata": {},
   "outputs": [
    {
     "name": "stdout",
     "output_type": "stream",
     "text": [
      "Cross-Validation Results: {'Logistic Regression': 0.8282513661202187, 'Decision Tree': 0.755464480874317, 'Random Forest': 0.8381967213114756, 'KNN': 0.643879781420765, 'SVM': 0.6434972677595628}\n"
     ]
    }
   ],
   "source": [
    "# 2. Cross-Validation\n",
    "cross_val_results = {}\n",
    "for name, model in models.items():\n",
    "    scores = cross_val_score(model, X, y, cv=5)\n",
    "    cross_val_results[name] = scores.mean()\n",
    "print(\"Cross-Validation Results:\", cross_val_results)"
   ]
  },
  {
   "cell_type": "markdown",
   "metadata": {},
   "source": [
    "# STRATIFIED SPLITTING / STRATIFIED CROSS VALIDATION\n",
    "_Purpose_:\n",
    "Stratified splitting ensures that each fold of the dataset maintains the same proportion of classes as the original dataset. This is particularly important for classification problems where the class distribution is imbalanced.\n",
    "\n",
    "_How it works_\n",
    "The dataset is divided into k folds in such a way that each fold has approximately the same percentage of samples of each target class as the original dataset.\n",
    "The model is trained and validated using these stratified folds.\n",
    "\n",
    "Note: Imbalanced Dataset;\n",
    "      is a dataset where the distribution of classes is not uniform. In other words, one class significantly outnumbers the other class(es).\n",
    "      e.g:Medical Diagnosis: In medical datasets, the number of patients with a rare disease (positive class) is often much smaller than the number of healthy patients (negative class)."
   ]
  },
  {
   "cell_type": "code",
   "execution_count": 11,
   "metadata": {},
   "outputs": [
    {
     "name": "stdout",
     "output_type": "stream",
     "text": [
      "Stratified Cross-Validation Results: {'Logistic Regression': 0.8282513661202187, 'Decision Tree': 0.755464480874317, 'Random Forest': 0.8381967213114756, 'KNN': 0.643879781420765, 'SVM': 0.6434972677595628}\n"
     ]
    }
   ],
   "source": [
    "# 3. Stratified Splitting\n",
    "skf = StratifiedKFold(n_splits=5)\n",
    "stratified_results = {}\n",
    "for name, model in models.items():\n",
    "    accuracies = []\n",
    "    for train_index, test_index in skf.split(X, y):\n",
    "        X_train, X_test = X.iloc[train_index], X.iloc[test_index]\n",
    "        y_train, y_test = y.iloc[train_index], y.iloc[test_index]\n",
    "        model.fit(X_train, y_train)\n",
    "        y_pred = model.predict(X_test)\n",
    "        accuracies.append(accuracy_score(y_test, y_pred))\n",
    "    stratified_results[name] = np.mean(accuracies)\n",
    "print(\"Stratified Cross-Validation Results:\", stratified_results)"
   ]
  },
  {
   "cell_type": "code",
   "execution_count": 15,
   "metadata": {},
   "outputs": [],
   "source": [
    "# Evaluate the metrics\n",
    "metrics = {\n",
    "    'Accuracy': accuracy_score,\n",
    "    'Precision': precision_score,\n",
    "    'Recall': recall_score,\n",
    "    'F1_score': f1_score,\n",
    "    'ROC AUC': roc_auc_score\n",
    "}"
   ]
  },
  {
   "cell_type": "code",
   "execution_count": 17,
   "metadata": {},
   "outputs": [],
   "source": [
    "\"\"\"_summary_\n",
    "steps:\n",
    "1.Train the Models: Fit each model to the training data.\n",
    "2.Predict on Test Data: Use the trained model to predict the target variable for the test data.\n",
    "3.Calculate Metrics: Calculate the performance metrics using the true and predicted values of the target variable.\n",
    "\"\"\"\n",
    "\n",
    "# Split the data into training and testing sets\n",
    "X = df.drop('target', axis=1)\n",
    "y = df['target']\n",
    "X_train, X_test, y_train, y_test = train_test_split(X, y, test_size=0.3, random_state=42)\n",
    "\n",
    "# Dictionary to store the results\n",
    "results = {}\n",
    "\n",
    "for name, model in models.items():\n",
    "    # Train the model\n",
    "    model.fit(X_train, y_train)\n",
    "\n",
    "    # Predict on the test set\n",
    "    y_pred = model.predict(X_test)\n",
    "    y_prob = model.predict_proba(X_test)[:, 1] if hasattr(model, 'predict_proba') else None\n",
    "    \n",
    "    # Calculate metrics\n",
    "    model_results = {\n",
    "        'Accuracy': accuracy_score(y_test, y_pred),\n",
    "        'Precision': precision_score(y_test, y_pred),\n",
    "        'Recall': recall_score(y_test, y_pred),\n",
    "        'F1_score': f1_score(y_test, y_pred),\n",
    "        'ROC AUC': roc_auc_score(y_test, y_prob) if y_prob is not None else 'N/A'\n",
    "    }\n",
    "    \n",
    "    # Store the results\n",
    "    results[name] = model_results\n"
   ]
  },
  {
   "cell_type": "code",
   "execution_count": 18,
   "metadata": {},
   "outputs": [
    {
     "name": "stdout",
     "output_type": "stream",
     "text": [
      "Results for Logistic Regression:\n",
      "  Accuracy: 0.8132\n",
      "  Precision: 0.8235\n",
      "  Recall: 0.8400\n",
      "  F1_score: 0.8317\n",
      "  ROC AUC: 0.8820\n",
      "\n",
      "Results for Decision Tree:\n",
      "  Accuracy: 0.7363\n",
      "  Precision: 0.7955\n",
      "  Recall: 0.7000\n",
      "  F1_score: 0.7447\n",
      "  ROC AUC: 0.7402\n",
      "\n",
      "Results for Random Forest:\n",
      "  Accuracy: 0.8242\n",
      "  Precision: 0.8400\n",
      "  Recall: 0.8400\n",
      "  F1_score: 0.8400\n",
      "  ROC AUC: 0.9095\n",
      "\n",
      "Results for KNN:\n",
      "  Accuracy: 0.6593\n",
      "  Precision: 0.6792\n",
      "  Recall: 0.7200\n",
      "  F1_score: 0.6990\n",
      "  ROC AUC: 0.7132\n",
      "\n",
      "Results for SVM:\n",
      "  Accuracy: 0.7033\n",
      "  Precision: 0.6716\n",
      "  Recall: 0.9000\n",
      "  F1_score: 0.7692\n",
      "  ROC AUC: 0.7946\n",
      "\n"
     ]
    }
   ],
   "source": [
    "for model_name, model_results in results.items():\n",
    "    print(f\"Results for {model_name}:\")\n",
    "    for metric_name, value in model_results.items():\n",
    "        print(f\"  {metric_name}: {value:.4f}\")\n",
    "    print()"
   ]
  },
  {
   "cell_type": "code",
   "execution_count": null,
   "metadata": {},
   "outputs": [],
   "source": [
    "# Actionable insight of the models\n",
    "# LR\n",
    "# Best performed model : Logistic Regression\n",
    "# Precision (0.08), Recall (0.90), f1_score (0.89), ROC AUC (0.91)\n",
    "\n",
    "# Balance model performance:\n",
    "#\n",
    "# KNN\n",
    "\n",
    "# SVM\n",
    "\n",
    "# DT\n",
    "\n",
    "# RF\n",
    "\n",
    "# Conclusion\n",
    "# Logistic regression is the best performer model with the higest core metrics\n",
    "\n",
    "#\n",
    "\n",
    "# Recommendation\n",
    "# Models considered for deployment\n",
    "\n",
    "# Furtur funing of the models\n",
    "\n",
    "# Ensemble methods, enhancing performance nd robustness "
   ]
  },
  {
   "cell_type": "markdown",
   "metadata": {},
   "source": [
    "# REGRESSION \n",
    "  Regression is a type of supervised learning used to predict continuous outcomes.\n",
    "  The goal of regression is to model the relationship between the dependent variable (also called the target or outcome variable) and one or more independent variables (also called features or predictors).\n",
    "\n",
    "_Key Points:_\n",
    "1. Output: Continuous numeric values (e.g., predicting house prices, temperature, stock prices).\n",
    "\n",
    "2. Objective: Minimize the difference between the predicted and actual values, often measured using metrics     like Mean Squared Error (MSE) or Mean Absolute Error (MAE).  \n",
    "\n",
    "_Examples of Regression Algorithms:_\n",
    "1. Linear Regression: Models the relationship between the dependent variable and one or more independent variables using a linear equation.\n",
    "\n",
    "2. Polynomial Regression: A type of linear regression where the relationship is modeled as an nth degree polynomial.\n",
    "\n",
    "3. Ridge Regression: A type of linear regression that includes a regularization term (L2) to prevent overfitting.\n",
    "\n",
    "4. Lasso Regression: Similar to Ridge Regression but uses L1 regularization to enforce sparsity (some coefficients are exactly zero)."
   ]
  },
  {
   "cell_type": "code",
   "execution_count": 1,
   "metadata": {},
   "outputs": [
    {
     "name": "stdout",
     "output_type": "stream",
     "text": [
      "Mean Square Error: 0.11627071992880021\n",
      "Coefficients: [-0.00062752 -0.1935466   0.10288355 -0.00208192 -0.00024992  0.02845524\n",
      "  0.05171915  0.00230438 -0.1696945  -0.06264225  0.1057503  -0.10996777\n",
      " -0.1255391 ]\n",
      "Intercept: 0.8941451184387648\n"
     ]
    }
   ],
   "source": [
    "# Supervised Learning algorithms\n",
    "# 1. Regression - Linear or Polynomial\n",
    "#   Linear Regression is a basic and widely used type of predictive analysis.\n",
    "#   It models the relationship between a dependent variable and one (simple linear regression) or more (multiple linear regression)\n",
    "#   independent variables using a linear equation.\n",
    "\n",
    "import pandas as pd\n",
    "import numpy as np\n",
    "from sklearn.model_selection import train_test_split\n",
    "from sklearn.linear_model import LinearRegression\n",
    "from sklearn.metrics import mean_squared_error\n",
    "\n",
    "# Load Dataset\n",
    "df = pd.read_csv('heart.csv')\n",
    "\n",
    "# Features and target\n",
    "X = df.drop('target', axis=1)\n",
    "y = df['target']\n",
    "\n",
    "# Train-test split\n",
    "X_train, X_test, y_train, y_test = train_test_split(X, y, test_size=0.2, random_state=42)\n",
    "\n",
    "# a) Linear Regression model\n",
    "lr = LinearRegression()\n",
    "lr.fit(X_train, y_train)\n",
    "\n",
    "# Predictions\n",
    "y_pred = lr.predict(X_test)\n",
    "\n",
    "# Evaluation\n",
    "mse = mean_squared_error(y_test, y_pred)\n",
    "\n",
    "print(f\"Mean Square Error: {mse}\")\n",
    "print(f\"Coefficients: {lr.coef_}\")\n",
    "print(f\"Intercept: {lr.intercept_}\")"
   ]
  },
  {
   "cell_type": "code",
   "execution_count": 2,
   "metadata": {},
   "outputs": [
    {
     "name": "stdout",
     "output_type": "stream",
     "text": [
      "Mean Squared Error: 20.823297811442547\n"
     ]
    }
   ],
   "source": [
    "# b) Polynomial Regression\n",
    "# Polynomial Regression is a type of linear regression in which the relationship between the independent variable x and the dependent \n",
    "# variable y is modeled as an nth degree polynomial.\n",
    "from sklearn.preprocessing import PolynomialFeatures\n",
    "from sklearn.linear_model import LinearRegression\n",
    "from sklearn.pipeline import make_pipeline\n",
    "\n",
    "# Generate polynomial features\n",
    "poly = PolynomialFeatures()\n",
    "X_poly = poly.fit_transform(X)\n",
    "\n",
    "# Train-test split\n",
    "X_train, X_test, y_train, y_test = train_test_split(X_poly, y, test_size=0.2, random_state=42)\n",
    "\n",
    "# Polynomial Regression model\n",
    "poly_model = make_pipeline(PolynomialFeatures(degree=2), LinearRegression())\n",
    "poly_model.fit(X_train, y_train)\n",
    "\n",
    "# Predictions\n",
    "y_pred = poly_model.predict(X_test)\n",
    "\n",
    "# Evaluation\n",
    "mse = mean_squared_error(y_test, y_pred)\n",
    "print(f\"Mean Squared Error: {mse}\")"
   ]
  },
  {
   "cell_type": "markdown",
   "metadata": {},
   "source": [
    "# Classification\n",
    "  Classification is a type of supervised learning used to predict categorical outcomes. The goal of classification is to assign input data to one of several predefined categories.\n",
    "\n",
    "_Key Points:_\n",
    "1. Output: Categorical values (e.g., spam or not spam, disease or no disease).\n",
    "\n",
    "2. Objective: Maximize the number of correct classifications, often measured using metrics like accuracy, precision, recall, and F1-score.\n",
    "\n",
    "_Examples of Classification Algorithms:_\n",
    "1. Logistic Regression: Used for binary classification problems. It models the probability that a given input point belongs to a certain class.\n",
    "\n",
    "2. K-Nearest Neighbors (KNN): A non-parametric algorithm that classifies new cases based on the majority class among the k-nearest neighbors.\n",
    "\n",
    "3. Support Vector Machine (SVM): Finds the hyperplane that best separates the classes in the feature space.\n",
    "\n",
    "4. Decision Trees: Uses a tree-like model of decisions to classify input data.\n",
    "\n",
    "5. Random Forest: An ensemble method that uses multiple decision trees to improve classification accuracy."
   ]
  },
  {
   "cell_type": "code",
   "execution_count": 3,
   "metadata": {},
   "outputs": [
    {
     "name": "stdout",
     "output_type": "stream",
     "text": [
      "Accuracy: 0.8852459016393442\n"
     ]
    },
    {
     "name": "stderr",
     "output_type": "stream",
     "text": [
      "/home/liven/anaconda3/lib/python3.11/site-packages/sklearn/linear_model/_logistic.py:458: ConvergenceWarning: lbfgs failed to converge (status=1):\n",
      "STOP: TOTAL NO. of ITERATIONS REACHED LIMIT.\n",
      "\n",
      "Increase the number of iterations (max_iter) or scale the data as shown in:\n",
      "    https://scikit-learn.org/stable/modules/preprocessing.html\n",
      "Please also refer to the documentation for alternative solver options:\n",
      "    https://scikit-learn.org/stable/modules/linear_model.html#logistic-regression\n",
      "  n_iter_i = _check_optimize_result(\n"
     ]
    }
   ],
   "source": [
    "# 2. Classification Algorithms\n",
    "# a)  Logistic Regression\n",
    "#     Logistic Regression is used for binary classification problems. \n",
    "#     It models the probability that a given input point belongs to a certain class.\n",
    "from sklearn.linear_model import LogisticRegression\n",
    "from sklearn.metrics import accuracy_score\n",
    "\n",
    "# Features and target\n",
    "X = df.drop('target', axis=1)\n",
    "y = df['target'] # Its binary given (0,1)\n",
    "\n",
    "# Train-test split\n",
    "X_train, X_test, y_train, y_test = train_test_split(X, y, test_size=0.2, random_state=42)\n",
    "\n",
    "# Logistic Regression model\n",
    "log_reg = LogisticRegression()\n",
    "log_reg.fit(X_train, y_train)\n",
    "\n",
    "# Predictions\n",
    "y_pred = log_reg.predict(X_test)\n",
    "\n",
    "# Evaluation\n",
    "accuracy = accuracy_score(y_test, y_pred)\n",
    "print(f\"Accuracy: {accuracy}\")"
   ]
  },
  {
   "cell_type": "code",
   "execution_count": 4,
   "metadata": {},
   "outputs": [
    {
     "name": "stdout",
     "output_type": "stream",
     "text": [
      "Accuracy: 0.6885245901639344\n"
     ]
    }
   ],
   "source": [
    "# b) K-Nearest Neighbors (KNN)\n",
    "#    KNN is a simple, non-parametric algorithm used for both classification and regression. \n",
    "#    It stores all available cases and classifies new cases based on a similarity measure.\n",
    "from sklearn.neighbors import KNeighborsClassifier\n",
    "from sklearn.metrics import accuracy_score\n",
    "\n",
    "# KNN model\n",
    "knn = KNeighborsClassifier(n_neighbors=5)\n",
    "knn.fit(X_train, y_train)\n",
    "\n",
    "# Predictions\n",
    "y_pred = knn.predict(X_test)\n",
    "\n",
    "# Evaluation\n",
    "accuracy = accuracy_score(y_test, y_pred)\n",
    "print(f\"Accuracy: {accuracy}\")"
   ]
  },
  {
   "cell_type": "code",
   "execution_count": 5,
   "metadata": {},
   "outputs": [
    {
     "name": "stdout",
     "output_type": "stream",
     "text": [
      "Accuracy: 0.8688524590163934\n"
     ]
    }
   ],
   "source": [
    "# c) Support Vector Machine (SVM)\n",
    "#    SVM is a powerful classification algorithm that works well for both linear and non-linear data. \n",
    "#    It finds the hyperplane that best separates the classes.\n",
    "from sklearn.svm import SVC\n",
    "\n",
    "# SVM model\n",
    "svm = SVC(kernel='linear')\n",
    "svm.fit(X_train, y_train)\n",
    "\n",
    "# Predictions\n",
    "y_pred = svm.predict(X_test)\n",
    "\n",
    "# Evaluation\n",
    "accuracy = accuracy_score(y_test, y_pred)\n",
    "print(f\"Accuracy: {accuracy}\")\n"
   ]
  },
  {
   "cell_type": "code",
   "execution_count": 6,
   "metadata": {},
   "outputs": [
    {
     "name": "stdout",
     "output_type": "stream",
     "text": [
      "Accuracy: 0.8360655737704918\n"
     ]
    }
   ],
   "source": [
    "# d) Decision Trees\n",
    "#    Decision Trees are a non-parametric supervised learning method used for both classification and regression. \n",
    "#    They predict the value of a target variable by learning simple decision rules inferred from the data features.\n",
    "from sklearn.tree import DecisionTreeClassifier\n",
    "\n",
    "# Decision Tree model\n",
    "dt = DecisionTreeClassifier()\n",
    "dt.fit(X_train, y_train)\n",
    "\n",
    "# Predictions\n",
    "y_pred = dt.predict(X_test)\n",
    "\n",
    "# Evaluation\n",
    "accuracy = accuracy_score(y_test, y_pred)\n",
    "print(f\"Accuracy: {accuracy}\")"
   ]
  },
  {
   "cell_type": "code",
   "execution_count": 7,
   "metadata": {},
   "outputs": [
    {
     "name": "stdout",
     "output_type": "stream",
     "text": [
      "Accuracy: 0.8688524590163934\n"
     ]
    }
   ],
   "source": [
    "# d) Random Forest\n",
    "#    Random Forest is an ensemble learning method that operates by constructing a multitude of decision \n",
    "#    trees during training time and outputting the class that is the mode of the classes of the individual trees.\n",
    "\n",
    "from sklearn.ensemble import RandomForestClassifier\n",
    "\n",
    "# Random Forest model\n",
    "rf = RandomForestClassifier(n_estimators=100)\n",
    "rf.fit(X_train, y_train)\n",
    "\n",
    "# Predictions\n",
    "y_pred = rf.predict(X_test)\n",
    "\n",
    "# Evaluation\n",
    "accuracy = accuracy_score(y_test, y_pred)\n",
    "print(f\"Accuracy: {accuracy}\")\n"
   ]
  },
  {
   "cell_type": "code",
   "execution_count": null,
   "metadata": {},
   "outputs": [],
   "source": [
    "# UNSUPERVISED LEARNING\n",
    "# a type of machine learning where the algorithm learns patterns from unlabeled data.\n",
    "# Unlike supervised learning, there are no explicit target variables to predict.\n",
    "# Instead, the goal is to identify hidden structures or relationships within the data.\n",
    "\n",
    "\"\"\"_Summary_\n",
    "# Types of Unsupervised Learning\n",
    "1. Clustering\n",
    "2. Dimensionality Reduction\n",
    "3. Association Rules\n",
    "\"\"\""
   ]
  },
  {
   "cell_type": "code",
   "execution_count": 13,
   "metadata": {},
   "outputs": [
    {
     "name": "stdout",
     "output_type": "stream",
     "text": [
      "     age  sex  cp  trestbps  chol  fbs  restecg  thalach  exang  oldpeak  \\\n",
      "0     63    1   3       145   233    1        0      150      0      2.3   \n",
      "1     37    1   2       130   250    0        1      187      0      3.5   \n",
      "2     41    0   1       130   204    0        0      172      0      1.4   \n",
      "3     56    1   1       120   236    0        1      178      0      0.8   \n",
      "4     57    0   0       120   354    0        1      163      1      0.6   \n",
      "..   ...  ...  ..       ...   ...  ...      ...      ...    ...      ...   \n",
      "298   57    0   0       140   241    0        1      123      1      0.2   \n",
      "299   45    1   3       110   264    0        1      132      0      1.2   \n",
      "300   68    1   0       144   193    1        1      141      0      3.4   \n",
      "301   57    1   0       130   131    0        1      115      1      1.2   \n",
      "302   57    0   1       130   236    0        0      174      0      0.0   \n",
      "\n",
      "     slope  ca  thal  \n",
      "0        0   0     1  \n",
      "1        0   0     2  \n",
      "2        2   0     2  \n",
      "3        2   0     2  \n",
      "4        2   0     2  \n",
      "..     ...  ..   ...  \n",
      "298      1   0     3  \n",
      "299      1   0     3  \n",
      "300      1   2     3  \n",
      "301      1   1     3  \n",
      "302      1   1     2  \n",
      "\n",
      "[303 rows x 13 columns]\n"
     ]
    }
   ],
   "source": [
    "# 1. Clustering\n",
    "#    Clustering algorithms group data points into clusters based on their similarity. \n",
    "#    The objective is to ensure that data points within the same cluster are more similar \n",
    "#    to each other than to those in other clusters.\n",
    "\n",
    "# Examples of Clustering Algorithms\n",
    "# a) K-Means Clustering\n",
    "#    K-Means is one of the simplest and most popular clustering algorithms. \n",
    "#    It partitions the data into K clusters, where each data point belongs to the cluster with the nearest mean.\n",
    "from sklearn.cluster import KMeans\n",
    "import pandas as pd\n",
    "import numpy as np\n",
    "\n",
    "df = pd.read_csv(\"heart.csv\")\n",
    "df = df.drop(columns=['target'])\n",
    "print(df)"
   ]
  },
  {
   "cell_type": "code",
   "execution_count": 17,
   "metadata": {},
   "outputs": [
    {
     "name": "stdout",
     "output_type": "stream",
     "text": [
      "   age  sex  cp  trestbps  chol  fbs  restecg  thalach  exang  oldpeak  slope  \\\n",
      "0   63    1   3       145   233    1        0      150      0      2.3      0   \n",
      "1   37    1   2       130   250    0        1      187      0      3.5      0   \n",
      "2   41    0   1       130   204    0        0      172      0      1.4      2   \n",
      "3   56    1   1       120   236    0        1      178      0      0.8      2   \n",
      "4   57    0   0       120   354    0        1      163      1      0.6      2   \n",
      "5   57    1   0       140   192    0        1      148      0      0.4      1   \n",
      "6   56    0   1       140   294    0        0      153      0      1.3      1   \n",
      "7   44    1   1       120   263    0        1      173      0      0.0      2   \n",
      "8   52    1   2       172   199    1        1      162      0      0.5      2   \n",
      "9   57    1   2       150   168    0        1      174      0      1.6      2   \n",
      "\n",
      "   ca  thal  cluster  \n",
      "0   0     1        0  \n",
      "1   0     2        0  \n",
      "2   0     2        1  \n",
      "3   0     2        0  \n",
      "4   0     2        2  \n",
      "5   0     1        1  \n",
      "6   0     2        2  \n",
      "7   0     3        0  \n",
      "8   0     3        1  \n",
      "9   0     2        1  \n"
     ]
    }
   ],
   "source": [
    "# K-means clustering\n",
    "kmeans = KMeans(n_clusters=3, n_init=10)\n",
    "df['cluster'] = kmeans.fit_predict(df)\n",
    "\n",
    "print(df.head(10))"
   ]
  },
  {
   "cell_type": "markdown",
   "metadata": {},
   "source": [
    "# K-means Clustering\n",
    "_Note_\n",
    "1. Cluster Labels: Each number corresponds to a different cluster. For example, 0 represents all data points assigned to cluster 0, 1 represents all data points assigned to cluster 1, and 2 represents all data points assigned to cluster 2.\n",
    "\n",
    "2. Clustering: The K-Means algorithm assigns each data point to one of the kk clusters based on their similarity. The similarity is typically measured using Euclidean distance, and the goal is to minimize the distance between data points and the centroid of their assigned cluster.\n",
    "\n",
    "_Interpreting the cluster labels_\n",
    "0: Data points assigned to cluster 0\n",
    "1: Data points assigned to cluster 1\n",
    "2: Data points assigned to cluster 2\n",
    "\n",
    "_remember_\n",
    "These labels help in understanding which data points belong to which clusters. For example, if you have 3 clusters, the K-Means algorithm has grouped your data points into 3 groups based on their features."
   ]
  },
  {
   "cell_type": "code",
   "execution_count": 19,
   "metadata": {},
   "outputs": [
    {
     "data": {
      "image/png": "[encoded data removed]",
      "text/plain": [
       "<Figure size 640x480 with 1 Axes>"
      ]
     },
     "metadata": {},
     "output_type": "display_data"
    }
   ],
   "source": [
    "# Visualize the clusters\n",
    "import matplotlib.pyplot as plt\n",
    "\n",
    "plt.scatter(df['ca'], df['thal'], c=df['cluster'], cmap='viridis')\n",
    "plt.xlabel('ca')\n",
    "plt.ylabel('thal')\n",
    "plt.title('K-Means Clustering')\n",
    "plt.show()\n"
   ]
  },
  {
   "cell_type": "markdown",
   "metadata": {},
   "source": [
    "# Hierarchical Clustering\n",
    "_Note_\n",
    "1. X-axis: Represents the individual data points (or samples) in your dataset. Each label corresponds to a data point.\n",
    "\n",
    "2. Y-axis: Represents the distance or dissimilarity between clusters.\n",
    "\n",
    "_Interpreting the Dendrogram_\n",
    "1. Leaves: The bottom-most points (leaves) on the dendrogram represent the individual data points.\n",
    "\n",
    "2. Branches: As you move up the dendrogram, branches connect data points to form clusters. The height at which branches join indicates the distance (or dissimilarity) between the clusters being merged.\n",
    "\n",
    "3. Height: The vertical axis indicates the distance or dissimilarity at which clusters are joined. Higher joins indicate greater dissimilarity between clusters.\n",
    "\n",
    "_Objective_\n",
    "1. Tall Single Branch: The very tall branch on the left suggests that there is a significant difference (dissimilarity) between some clusters in your data.\n",
    "\n",
    "2. Cluster Formation: The smaller branches at the lower part of the dendrogram show where the data points or smaller clusters are merged to form larger clusters."
   ]
  },
  {
   "cell_type": "code",
   "execution_count": 24,
   "metadata": {},
   "outputs": [
    {
     "data": {
      "image/png": "[encoded data removed]",
      "text/plain": [
       "<Figure size 1200x800 with 1 Axes>"
      ]
     },
     "metadata": {},
     "output_type": "display_data"
    }
   ],
   "source": [
    "# Hierarchical Clustering\n",
    "# Hierarchical Clustering creates a tree of clusters. \n",
    "# It can be either agglomerative (bottom-up) or divisive (top-down).\n",
    "\n",
    "from scipy.cluster.hierarchy import dendrogram, linkage\n",
    "\n",
    "# b) Hierarchical Clustering\n",
    "df = pd.read_csv('heart.csv')\n",
    "df = df.drop(columns=['target'])\n",
    "# Hierarchical clustering\n",
    "linked = linkage(df, 'single')\n",
    "\n",
    "# Plotting dendrogram\n",
    "plt.figure(figsize=(12, 8))\n",
    "dendrogram(linked)\n",
    "plt.show()\n"
   ]
  },
  {
   "cell_type": "code",
   "execution_count": null,
   "metadata": {},
   "outputs": [],
   "source": [
    "# 2. Dimensionality Reduction\n",
    "# Dimensionality reduction techniques reduce the number of random variables under consideration by \n",
    "# obtaining a set of principal variables. \n",
    "# This is useful for visualizing high-dimensional data and for improving the efficiency of other algorithms.\n",
    "\n",
    "# Examples of Dimensionality Reduction Algorithms:\n",
    "# a) Principal Component Analysis (PCA)\n",
    "#    PCA transforms the data into a set of orthogonal components that explain the maximum variance in the data."
   ]
  },
  {
   "cell_type": "code",
   "execution_count": 26,
   "metadata": {},
   "outputs": [
    {
     "data": {
      "image/png": "[encoded data removed]",
      "text/plain": [
       "<Figure size 640x480 with 1 Axes>"
      ]
     },
     "metadata": {},
     "output_type": "display_data"
    }
   ],
   "source": [
    "# PCA\n",
    "from sklearn.decomposition import PCA\n",
    "import matplotlib.pyplot as plt\n",
    "\n",
    "# PCA\n",
    "pca = PCA(n_components=2)\n",
    "principal_components = pca.fit_transform(df)\n",
    "\n",
    "# Plotting the principal components\n",
    "plt.scatter(principal_components[:, 0], principal_components[:, 1])\n",
    "plt.xlabel('Principal Component 1')\n",
    "plt.ylabel('Principal Component 2')\n",
    "plt.title('PCA of Heart csv')\n",
    "plt.show()"
   ]
  },
  {
   "cell_type": "code",
   "execution_count": 27,
   "metadata": {},
   "outputs": [
    {
     "data": {
      "image/png": "[encoded data removed]",
      "text/plain": [
       "<Figure size 640x480 with 1 Axes>"
      ]
     },
     "metadata": {},
     "output_type": "display_data"
    }
   ],
   "source": [
    "# b) t-Distributed Stochastic Neighbor Embedding (t-SNE)\n",
    "#    t-SNE is a nonlinear dimensionality reduction technique particularly well suited for \n",
    "#    visualizing high-dimensional data.\n",
    "from sklearn.manifold import TSNE\n",
    "# t-SNE\n",
    "tsne = TSNE(n_components=2, perplexity=30)\n",
    "tsne_results = tsne.fit_transform(df)\n",
    "\n",
    "# Plotting t-SNE results\n",
    "plt.scatter(tsne_results[:, 0], tsne_results[:, 1])\n",
    "plt.xlabel('t-SNE Component 1')\n",
    "plt.ylabel('t-SNE Component 2')\n",
    "plt.title('t-SNE of Heart Data')\n",
    "plt.show()"
   ]
  },
  {
   "cell_type": "code",
   "execution_count": 28,
   "metadata": {},
   "outputs": [
    {
     "ename": "ModuleNotFoundError",
     "evalue": "No module named 'mlxtend'",
     "output_type": "error",
     "traceback": [
      "\u001b[0;31m---------------------------------------------------------------------------\u001b[0m",
      "\u001b[0;31mModuleNotFoundError\u001b[0m                       Traceback (most recent call last)",
      "Cell \u001b[0;32mIn[28], line 4\u001b[0m\n\u001b[1;32m      1\u001b[0m \u001b[38;5;66;03m# b) Association rule\u001b[39;00m\n\u001b[1;32m      2\u001b[0m \u001b[38;5;66;03m#    Association rule learning finds interesting relationships (associations) among a large set of data items. \u001b[39;00m\n\u001b[1;32m      3\u001b[0m \u001b[38;5;66;03m#    It is often used in market basket analysis.\u001b[39;00m\n\u001b[0;32m----> 4\u001b[0m \u001b[38;5;28;01mfrom\u001b[39;00m \u001b[38;5;21;01mmlxtend\u001b[39;00m\u001b[38;5;21;01m.\u001b[39;00m\u001b[38;5;21;01mfrequent_patterns\u001b[39;00m \u001b[38;5;28;01mimport\u001b[39;00m apriori, association_rules\n",
      "\u001b[0;31mModuleNotFoundError\u001b[0m: No module named 'mlxtend'"
     ]
    }
   ],
   "source": [
    "# b) Association rule\n",
    "#    Association rule learning finds interesting relationships (associations) among a large set of data items. \n",
    "#    It is often used in market basket analysis.\n",
    "from mlxtend.frequent_patterns import apriori, association_rules\n",
    "\n"
   ]
  }
 ],
 "metadata": {
  "kernelspec": {
   "display_name": "base",
   "language": "python",
   "name": "python3"
  },
  "language_info": {
   "codemirror_mode": {
    "name": "ipython",
    "version": 3
   },
   "file_extension": ".py",
   "mimetype": "text/x-python",
   "name": "python",
   "nbconvert_exporter": "python",
   "pygments_lexer": "ipython3",
   "version": "3.11.7"
  }
 },
 "nbformat": 4,
 "nbformat_minor": 2
}
